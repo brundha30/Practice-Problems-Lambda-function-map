{
 "cells": [
  {
   "cell_type": "markdown",
   "metadata": {},
   "source": [
    "# Write a Python program to listify the list of given strings individually using Python map\n"
   ]
  },
  {
   "cell_type": "code",
   "execution_count": 1,
   "metadata": {},
   "outputs": [
    {
     "name": "stdout",
     "output_type": "stream",
     "text": [
      "[['M', 'o', 'u', 'n', 't', 'a', 'i', 'n'], ['N', 'a', 't', 'u', 'r', 'e'], ['H', 'i', 'l', 'l'], ['R', 'a', 'i', 'n']]\n"
     ]
    }
   ],
   "source": [
    "l = [\"Mountain\",\"Nature\",\"Hill\",\"Rain\"]\n",
    "\n",
    "l1 = list(map(list,l))\n",
    "\n",
    "print(l1)"
   ]
  }
 ],
 "metadata": {
  "kernelspec": {
   "display_name": "Python 3",
   "language": "python",
   "name": "python3"
  },
  "language_info": {
   "codemirror_mode": {
    "name": "ipython",
    "version": 3
   },
   "file_extension": ".py",
   "mimetype": "text/x-python",
   "name": "python",
   "nbconvert_exporter": "python",
   "pygments_lexer": "ipython3",
   "version": "3.7.6"
  }
 },
 "nbformat": 4,
 "nbformat_minor": 4
}
